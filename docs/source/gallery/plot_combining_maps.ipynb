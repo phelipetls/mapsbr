{
  "cells": [
    {
      "cell_type": "code",
      "execution_count": null,
      "metadata": {
        "collapsed": false
      },
      "outputs": [],
      "source": [
        "%matplotlib inline"
      ]
    },
    {
      "cell_type": "markdown",
      "metadata": {},
      "source": [
        "\nCombining Maps\n==============\n"
      ]
    },
    {
      "cell_type": "markdown",
      "metadata": {},
      "source": [
        "In this example we'll show how to combine maps so to get a more detailed\nview of Brazil.\n\nA way to plot multiple polygons on top of another is to first plot the more\ndetailed map, e.g., with states, and then plot on top of it the more aggregated\nmap, e.g., with macroregions only, with some transparency.\n\n"
      ]
    },
    {
      "cell_type": "code",
      "execution_count": null,
      "metadata": {
        "collapsed": false
      },
      "outputs": [],
      "source": [
        "from mapsbr import ibgemaps\n\nstates = ibgemaps.get_map(\"BR\", including=\"states\")\nmacroregions = ibgemaps.get_map(\"BR\", including=\"macroregions\")\n\nax = states.plot(color=\"white\", edgecolor=\"black\")\nmacroregions.plot(color=\"white\", edgecolor=\"black\", alpha=.5, ax=ax)\nax.axis(\"off\")"
      ]
    }
  ],
  "metadata": {
    "kernelspec": {
      "display_name": "Python 3",
      "language": "python",
      "name": "python3"
    },
    "language_info": {
      "codemirror_mode": {
        "name": "ipython",
        "version": 3
      },
      "file_extension": ".py",
      "mimetype": "text/x-python",
      "name": "python",
      "nbconvert_exporter": "python",
      "pygments_lexer": "ipython3",
      "version": "3.7.4"
    }
  },
  "nbformat": 4,
  "nbformat_minor": 0
}