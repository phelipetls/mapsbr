{
  "cells": [
    {
      "cell_type": "code",
      "execution_count": null,
      "metadata": {
        "collapsed": false
      },
      "outputs": [],
      "source": [
        "%matplotlib inline"
      ]
    },
    {
      "cell_type": "markdown",
      "metadata": {},
      "source": [
        "\nChoropleth map: brazil population by macroregion\n================================================\n"
      ]
    },
    {
      "cell_type": "markdown",
      "metadata": {},
      "source": [
        "In this example we want to visualize brazilian population\nby macroregion.\n\nLet's first retrieve the data with the `seriesbr <seriesbr.readthedocs.io>`_ package.\n\n"
      ]
    },
    {
      "cell_type": "code",
      "execution_count": null,
      "metadata": {
        "collapsed": false
      },
      "outputs": [],
      "source": [
        "from seriesbr import ibge\n\npopulation = ibge.get_series(6462, 606, macroregions=True, last_n=1)\n\npopulation"
      ]
    },
    {
      "cell_type": "markdown",
      "metadata": {},
      "source": [
        "Then let's convert this `DataFrame` into a `GeoDataFrame` and assign\nto a column named \"geometry\" the macroregions' geometric objects.\n\nYou can get a geometric object for a given location with the function \n:py:func:`mapsbr.ibgemaps.geocode`. It can either be a location code or name. If\nit's a name, you'll need to pass its geographic level as the argument `geolevel` so\nit can properly get converted to a code.\n\nFor example, `ibgemaps.geocode(\"Rio de Janeiro\", geolevel=\"state\")` if you want Rio\nde Janeiro state map or `ibgemaps.geocode(\"Rio de Janeiro\", geolevel=\"municipality\") if\nthe map for Rio de Janeiro city.\n\nNotice that the column with the geometric objects *has* to be named geometry. Otherwise\nyou'll need to call the `set_geometry(\"new_column\")` method on the `GeoDataFrame`.\n\n"
      ]
    },
    {
      "cell_type": "code",
      "execution_count": null,
      "metadata": {
        "collapsed": false
      },
      "outputs": [],
      "source": [
        "import geopandas as gpd\nfrom mapsbr import ibgemaps\n\ngdf = gpd.GeoDataFrame(population)\ngdf[\"geometry\"] = ibgemaps.geocode(population[\"Grande Regi\u00e3o\"], geolevel=\"macroregion\")\ngdf.plot(column=\"Valor\", legend=True, edgecolor=\"w\")\n\nimport matplotlib.pyplot as plt\nplt.show()"
      ]
    }
  ],
  "metadata": {
    "kernelspec": {
      "display_name": "Python 3",
      "language": "python",
      "name": "python3"
    },
    "language_info": {
      "codemirror_mode": {
        "name": "ipython",
        "version": 3
      },
      "file_extension": ".py",
      "mimetype": "text/x-python",
      "name": "python",
      "nbconvert_exporter": "python",
      "pygments_lexer": "ipython3",
      "version": "3.7.4"
    }
  },
  "nbformat": 4,
  "nbformat_minor": 0
}