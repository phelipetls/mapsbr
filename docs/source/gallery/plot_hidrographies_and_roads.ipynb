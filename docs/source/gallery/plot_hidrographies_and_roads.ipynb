{
  "cells": [
    {
      "cell_type": "code",
      "execution_count": null,
      "metadata": {
        "collapsed": false
      },
      "outputs": [],
      "source": [
        "%matplotlib inline"
      ]
    },
    {
      "cell_type": "markdown",
      "metadata": {},
      "source": [
        "\nHighways, railways and hidrographies\n====================================\n"
      ]
    },
    {
      "cell_type": "markdown",
      "metadata": {},
      "source": [
        "Let's imagine you for some reason have to plot all brazilian hidrographies or\nhighways. You can do this with the help of :py:mod:`mapsbr.arcgis` module.\n\nFirst let me explain how the ArcGIS API works. To get a map from somewhere\nyou will first need a host (a server) from which you will retrieve the data.\nBy default, this will be https://mapasinterativos.ibge.gov.br/arcgis/rest/.\n\nEach host stores its data in folders or services. You will need to search\nwhere exactly is the desired geometry.\n\nThere is a function to help with that, but it is more featureful\nto do it in the browser, probably.\n\n"
      ]
    },
    {
      "cell_type": "code",
      "execution_count": null,
      "metadata": {
        "collapsed": false
      },
      "outputs": [],
      "source": [
        "from mapsbr import arcgis, ibgemaps\n\narcgis.search()  # by default, it will search in services"
      ]
    },
    {
      "cell_type": "code",
      "execution_count": null,
      "metadata": {
        "collapsed": false
      },
      "outputs": [],
      "source": [
        "arcgis.search(where=\"folders\")"
      ]
    },
    {
      "cell_type": "markdown",
      "metadata": {},
      "source": [
        "For example, in our case, the geometries for highways, railways\nand hidrographies is in the service folder called BASEMAP.\n\nInside the folder there are various layers, and we will also need those.\n\nThe layer number for railway is 2, for highways is 3 and for hidrographies\nis 4.\n\nThe function :py:func:`mapsbr.arcgis.get_map` takes arguments for all these\nthings. But by default, it will search in an IBGE host, so you just need to pass\nthe service and layer identifiers.\n\n"
      ]
    },
    {
      "cell_type": "code",
      "execution_count": null,
      "metadata": {
        "collapsed": false
      },
      "outputs": [],
      "source": [
        "railways = arcgis.get_map(\"BASEMAP\", layer=2)\nhighways = arcgis.get_map(\"BASEMAP\", layer=3)\nhidrographies = arcgis.get_map(\"BASEMAP\", layer=4)\n\ntransports = railways, highways, hidrographies\ntitles = [\"Railways\", \"Highways\", \"Hidrographies\"]"
      ]
    },
    {
      "cell_type": "markdown",
      "metadata": {},
      "source": [
        "Once we have it, let's now plot it.\n\n"
      ]
    },
    {
      "cell_type": "code",
      "execution_count": null,
      "metadata": {
        "collapsed": false
      },
      "outputs": [],
      "source": [
        "import matplotlib.pyplot as plt\n\nfig, axes = plt.subplots(nrows=1, ncols=3)\nbr = ibgemaps.get_map(\"BR\")\nfor ax, transport, title in zip(axes.flat, transports, titles):\n    br.plot(ax=ax, color=\"white\", edgecolor=\"gray\")\n    transport.plot(ax=ax, column=transport.columns[1])\n    ax.set_title(title)\n    ax.axis(\"off\")"
      ]
    }
  ],
  "metadata": {
    "kernelspec": {
      "display_name": "Python 3",
      "language": "python",
      "name": "python3"
    },
    "language_info": {
      "codemirror_mode": {
        "name": "ipython",
        "version": 3
      },
      "file_extension": ".py",
      "mimetype": "text/x-python",
      "name": "python",
      "nbconvert_exporter": "python",
      "pygments_lexer": "ipython3",
      "version": "3.7.4"
    }
  },
  "nbformat": 4,
  "nbformat_minor": 0
}